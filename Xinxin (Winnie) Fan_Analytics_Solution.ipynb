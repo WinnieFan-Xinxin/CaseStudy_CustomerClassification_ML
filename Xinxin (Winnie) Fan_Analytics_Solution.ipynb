{
 "cells": [
  {
   "cell_type": "markdown",
   "metadata": {},
   "source": [
    "# Question1: Identify the factors that impact clients choosing a tasker in the result page."
   ]
  },
  {
   "cell_type": "markdown",
   "metadata": {},
   "source": [
    "For this problem, the dataset contains 30,000 datapoints with no missing values.\n",
    "Since the dependent variable is binary variable (whether a tasker is hired or not), I will use classification models to predict this target variable by understanding the main drivers of a tasker being hired."
   ]
  },
  {
   "cell_type": "code",
   "execution_count": 1,
   "metadata": {},
   "outputs": [],
   "source": [
    "import pandas as pd"
   ]
  },
  {
   "cell_type": "code",
   "execution_count": 3,
   "metadata": {},
   "outputs": [],
   "source": [
    "dataset = pd.read_csv('Analytics_data.csv')"
   ]
  },
  {
   "cell_type": "code",
   "execution_count": 4,
   "metadata": {},
   "outputs": [],
   "source": [
    "import seaborn as sns\n",
    "from plotly.offline import download_plotlyjs, init_notebook_mode, plot, iplot\n",
    "from matplotlib import pyplot\n",
    "import matplotlib.pyplot as plt\n",
    "import matplotlib.pylab as pylab\n",
    "import matplotlib\n",
    "%matplotlib inline\n",
    "color = sns.color_palette()"
   ]
  },
  {
   "cell_type": "code",
   "execution_count": 5,
   "metadata": {},
   "outputs": [],
   "source": [
    "df = dataset.copy()"
   ]
  },
  {
   "cell_type": "code",
   "execution_count": 6,
   "metadata": {},
   "outputs": [
    {
     "data": {
      "text/html": [
       "<div>\n",
       "<style scoped>\n",
       "    .dataframe tbody tr th:only-of-type {\n",
       "        vertical-align: middle;\n",
       "    }\n",
       "\n",
       "    .dataframe tbody tr th {\n",
       "        vertical-align: top;\n",
       "    }\n",
       "\n",
       "    .dataframe thead th {\n",
       "        text-align: right;\n",
       "    }\n",
       "</style>\n",
       "<table border=\"1\" class=\"dataframe\">\n",
       "  <thead>\n",
       "    <tr style=\"text-align: right;\">\n",
       "      <th></th>\n",
       "      <th>funnel_search_id</th>\n",
       "      <th>created_at</th>\n",
       "      <th>tasker_id</th>\n",
       "      <th>position</th>\n",
       "      <th>hourly_rate</th>\n",
       "      <th>num_completed_tasks</th>\n",
       "      <th>hired</th>\n",
       "      <th>category</th>\n",
       "    </tr>\n",
       "  </thead>\n",
       "  <tbody>\n",
       "    <tr>\n",
       "      <td>0</td>\n",
       "      <td>0-0-70cf97d7-37af-4834-901c-ce3ad4893b8c</td>\n",
       "      <td>9/1/17 0:32</td>\n",
       "      <td>1009185352</td>\n",
       "      <td>1</td>\n",
       "      <td>38</td>\n",
       "      <td>151</td>\n",
       "      <td>0</td>\n",
       "      <td>Furniture Assembly</td>\n",
       "    </tr>\n",
       "    <tr>\n",
       "      <td>1</td>\n",
       "      <td>0-0-70cf97d7-37af-4834-901c-ce3ad4893b8c</td>\n",
       "      <td>9/1/17 0:32</td>\n",
       "      <td>1006892359</td>\n",
       "      <td>2</td>\n",
       "      <td>40</td>\n",
       "      <td>193</td>\n",
       "      <td>0</td>\n",
       "      <td>Furniture Assembly</td>\n",
       "    </tr>\n",
       "    <tr>\n",
       "      <td>2</td>\n",
       "      <td>0-0-70cf97d7-37af-4834-901c-ce3ad4893b8c</td>\n",
       "      <td>9/1/17 0:32</td>\n",
       "      <td>1012023956</td>\n",
       "      <td>3</td>\n",
       "      <td>28</td>\n",
       "      <td>0</td>\n",
       "      <td>0</td>\n",
       "      <td>Furniture Assembly</td>\n",
       "    </tr>\n",
       "    <tr>\n",
       "      <td>3</td>\n",
       "      <td>0-0-70cf97d7-37af-4834-901c-ce3ad4893b8c</td>\n",
       "      <td>9/1/17 0:32</td>\n",
       "      <td>1009733517</td>\n",
       "      <td>4</td>\n",
       "      <td>43</td>\n",
       "      <td>303</td>\n",
       "      <td>0</td>\n",
       "      <td>Furniture Assembly</td>\n",
       "    </tr>\n",
       "    <tr>\n",
       "      <td>4</td>\n",
       "      <td>0-0-70cf97d7-37af-4834-901c-ce3ad4893b8c</td>\n",
       "      <td>9/1/17 0:32</td>\n",
       "      <td>1013579273</td>\n",
       "      <td>5</td>\n",
       "      <td>29</td>\n",
       "      <td>39</td>\n",
       "      <td>0</td>\n",
       "      <td>Furniture Assembly</td>\n",
       "    </tr>\n",
       "  </tbody>\n",
       "</table>\n",
       "</div>"
      ],
      "text/plain": [
       "                           funnel_search_id   created_at   tasker_id  \\\n",
       "0  0-0-70cf97d7-37af-4834-901c-ce3ad4893b8c  9/1/17 0:32  1009185352   \n",
       "1  0-0-70cf97d7-37af-4834-901c-ce3ad4893b8c  9/1/17 0:32  1006892359   \n",
       "2  0-0-70cf97d7-37af-4834-901c-ce3ad4893b8c  9/1/17 0:32  1012023956   \n",
       "3  0-0-70cf97d7-37af-4834-901c-ce3ad4893b8c  9/1/17 0:32  1009733517   \n",
       "4  0-0-70cf97d7-37af-4834-901c-ce3ad4893b8c  9/1/17 0:32  1013579273   \n",
       "\n",
       "   position  hourly_rate  num_completed_tasks  hired            category  \n",
       "0         1           38                  151      0  Furniture Assembly  \n",
       "1         2           40                  193      0  Furniture Assembly  \n",
       "2         3           28                    0      0  Furniture Assembly  \n",
       "3         4           43                  303      0  Furniture Assembly  \n",
       "4         5           29                   39      0  Furniture Assembly  "
      ]
     },
     "execution_count": 6,
     "metadata": {},
     "output_type": "execute_result"
    }
   ],
   "source": [
    "df.head()"
   ]
  },
  {
   "cell_type": "code",
   "execution_count": 7,
   "metadata": {
    "scrolled": true
   },
   "outputs": [
    {
     "name": "stdout",
     "output_type": "stream",
     "text": [
      "<class 'pandas.core.frame.DataFrame'>\n",
      "RangeIndex: 30000 entries, 0 to 29999\n",
      "Data columns (total 8 columns):\n",
      "funnel_search_id       30000 non-null object\n",
      "created_at             30000 non-null object\n",
      "tasker_id              30000 non-null int64\n",
      "position               30000 non-null int64\n",
      "hourly_rate            30000 non-null int64\n",
      "num_completed_tasks    30000 non-null int64\n",
      "hired                  30000 non-null int64\n",
      "category               30000 non-null object\n",
      "dtypes: int64(5), object(3)\n",
      "memory usage: 1.8+ MB\n"
     ]
    }
   ],
   "source": [
    "df.info()"
   ]
  },
  {
   "cell_type": "code",
   "execution_count": 8,
   "metadata": {},
   "outputs": [],
   "source": [
    "categorical_feature = [\n",
    "    'position',\n",
    "    'category'\n",
    "]\n",
    "numerical_feature = [\n",
    "    'hourly_rate',\n",
    "    'num_completed_tasks'\n",
    "]\n",
    "target = 'hired'"
   ]
  },
  {
   "cell_type": "code",
   "execution_count": 9,
   "metadata": {},
   "outputs": [
    {
     "data": {
      "text/html": [
       "<div>\n",
       "<style scoped>\n",
       "    .dataframe tbody tr th:only-of-type {\n",
       "        vertical-align: middle;\n",
       "    }\n",
       "\n",
       "    .dataframe tbody tr th {\n",
       "        vertical-align: top;\n",
       "    }\n",
       "\n",
       "    .dataframe thead th {\n",
       "        text-align: right;\n",
       "    }\n",
       "</style>\n",
       "<table border=\"1\" class=\"dataframe\">\n",
       "  <thead>\n",
       "    <tr style=\"text-align: right;\">\n",
       "      <th></th>\n",
       "      <th>hourly_rate</th>\n",
       "      <th>num_completed_tasks</th>\n",
       "    </tr>\n",
       "  </thead>\n",
       "  <tbody>\n",
       "    <tr>\n",
       "      <td>count</td>\n",
       "      <td>30000.000000</td>\n",
       "      <td>30000.000000</td>\n",
       "    </tr>\n",
       "    <tr>\n",
       "      <td>mean</td>\n",
       "      <td>57.482533</td>\n",
       "      <td>221.235700</td>\n",
       "    </tr>\n",
       "    <tr>\n",
       "      <td>std</td>\n",
       "      <td>36.222860</td>\n",
       "      <td>279.801812</td>\n",
       "    </tr>\n",
       "    <tr>\n",
       "      <td>min</td>\n",
       "      <td>18.000000</td>\n",
       "      <td>0.000000</td>\n",
       "    </tr>\n",
       "    <tr>\n",
       "      <td>25%</td>\n",
       "      <td>38.000000</td>\n",
       "      <td>23.000000</td>\n",
       "    </tr>\n",
       "    <tr>\n",
       "      <td>50%</td>\n",
       "      <td>45.000000</td>\n",
       "      <td>114.000000</td>\n",
       "    </tr>\n",
       "    <tr>\n",
       "      <td>75%</td>\n",
       "      <td>60.000000</td>\n",
       "      <td>300.250000</td>\n",
       "    </tr>\n",
       "    <tr>\n",
       "      <td>max</td>\n",
       "      <td>290.000000</td>\n",
       "      <td>1406.000000</td>\n",
       "    </tr>\n",
       "  </tbody>\n",
       "</table>\n",
       "</div>"
      ],
      "text/plain": [
       "        hourly_rate  num_completed_tasks\n",
       "count  30000.000000         30000.000000\n",
       "mean      57.482533           221.235700\n",
       "std       36.222860           279.801812\n",
       "min       18.000000             0.000000\n",
       "25%       38.000000            23.000000\n",
       "50%       45.000000           114.000000\n",
       "75%       60.000000           300.250000\n",
       "max      290.000000          1406.000000"
      ]
     },
     "execution_count": 9,
     "metadata": {},
     "output_type": "execute_result"
    }
   ],
   "source": [
    "df[numerical_feature].describe()"
   ]
  },
  {
   "cell_type": "code",
   "execution_count": 10,
   "metadata": {
    "scrolled": true
   },
   "outputs": [
    {
     "data": {
      "image/png": "[encoded data removed]",
      "text/plain": [
       "<Figure size 720x288 with 2 Axes>"
      ]
     },
     "metadata": {
      "needs_background": "light"
     },
     "output_type": "display_data"
    }
   ],
   "source": [
    "df[numerical_feature].hist(figsize=(10,4))\n",
    "plt.show()"
   ]
  },
  {
   "cell_type": "markdown",
   "metadata": {},
   "source": [
    "hourly_rate and num_completed_tasks distributions are right-skewed with the bulk of tasker charging 18-70 dollars per hour and completing 0-250 tasks. Data transformation methods may be required to approach a normal distribution prior to fitting a model to the data."
   ]
  },
  {
   "cell_type": "markdown",
   "metadata": {},
   "source": [
    "Target Variable: hired"
   ]
  },
  {
   "cell_type": "code",
   "execution_count": 11,
   "metadata": {},
   "outputs": [
    {
     "data": {
      "text/plain": [
       "0    28295\n",
       "1     1705\n",
       "Name: hired, dtype: int64"
      ]
     },
     "execution_count": 11,
     "metadata": {},
     "output_type": "execute_result"
    }
   ],
   "source": [
    "# 'hired' indicates if the tasker is hired ('1') or not hired ('0')\n",
    "df['hired'].value_counts()"
   ]
  },
  {
   "cell_type": "code",
   "execution_count": 12,
   "metadata": {},
   "outputs": [
    {
     "name": "stdout",
     "output_type": "stream",
     "text": [
      "Percentage of tasker bering hired is 5.7% and of tasker not being hired is: 94.3%\n"
     ]
    }
   ],
   "source": [
    "print(\"Percentage of tasker bering hired is {:.1f}% and of tasker not being hired is: {:.1f}%\".format(\n",
    "    df[df['hired'] == 1].shape[0] / df.shape[0]*100,\n",
    "    df[df['hired'] == 0].shape[0] / df.shape[0]*100))"
   ]
  },
  {
   "cell_type": "code",
   "execution_count": 13,
   "metadata": {},
   "outputs": [
    {
     "data": {
      "text/html": [
       "        <script type=\"text/javascript\">\n",
       "        window.PlotlyConfig = {MathJaxConfig: 'local'};\n",
       "        if (window.MathJax) {MathJax.Hub.Config({SVG: {font: \"STIX-Web\"}});}\n",
       "        if (typeof require !== 'undefined') {\n",
       "        require.undef(\"plotly\");\n",
       "        requirejs.config({\n",
       "            paths: {\n",
       "                'plotly': ['https://cdn.plot.ly/plotly-latest.min']\n",
       "            }\n",
       "        });\n",
       "        require(['plotly'], function(Plotly) {\n",
       "            window._Plotly = Plotly;\n",
       "        });\n",
       "        }\n",
       "        </script>\n",
       "        "
      ]
     },
     "metadata": {},
     "output_type": "display_data"
    }
   ],
   "source": [
    "import cufflinks as cf\n",
    "cf.go_offline()\n",
    "cf.set_config_file(offline=False, world_readable=True)"
   ]
  },
  {
   "cell_type": "code",
   "execution_count": 14,
   "metadata": {},
   "outputs": [
    {
     "data": {
      "text/plain": [
       "<matplotlib.axes._subplots.AxesSubplot at 0x285bbac7d48>"
      ]
     },
     "execution_count": 14,
     "metadata": {},
     "output_type": "execute_result"
    },
    {
     "data": {
      "image/png": "[encoded data removed]",
      "text/plain": [
       "<Figure size 432x288 with 1 Axes>"
      ]
     },
     "metadata": {
      "needs_background": "light"
     },
     "output_type": "display_data"
    }
   ],
   "source": [
    "# Plot target variable\n",
    "df[target].value_counts().plot(kind='bar')"
   ]
  },
  {
   "cell_type": "markdown",
   "metadata": {},
   "source": [
    "As shown above, we see this is an imbalanced class problem. Indeed, the percentage of being hired in our dataset is 5.7% and the percentage of not being hired is: 94.4%\n",
    "\n",
    "Machine learning algorithms typically work best when the number of instances of each classes are roughly equal. We will have to address this target feature imbalance prior to implementing our Machine Learning algorithms."
   ]
  },
  {
   "cell_type": "markdown",
   "metadata": {},
   "source": [
    "Correlation: Find correlations with the target and sort"
   ]
  },
  {
   "cell_type": "code",
   "execution_count": 15,
   "metadata": {},
   "outputs": [],
   "source": [
    "# Drop IDs and timestamp\n",
    "df_trans = df.copy()\n",
    "df_trans = df_trans.drop(\n",
    "    ['funnel_search_id', 'created_at', 'tasker_id'], axis=1)"
   ]
  },
  {
   "cell_type": "code",
   "execution_count": 16,
   "metadata": {},
   "outputs": [
    {
     "name": "stdout",
     "output_type": "stream",
     "text": [
      "position              -0.213608\n",
      "hourly_rate           -0.046519\n",
      "num_completed_tasks    0.041825\n",
      "hired                  1.000000\n",
      "Name: hired, dtype: float64\n"
     ]
    }
   ],
   "source": [
    "correlations = df_trans.corr()['hired'].sort_values()\n",
    "print(correlations)"
   ]
  },
  {
   "cell_type": "code",
   "execution_count": 18,
   "metadata": {
    "scrolled": false
   },
   "outputs": [
    {
     "data": {
      "text/plain": [
       "<matplotlib.axes._subplots.AxesSubplot at 0x285bb0be848>"
      ]
     },
     "execution_count": 18,
     "metadata": {},
     "output_type": "execute_result"
    },
    {
     "data": {
      "image/png": "[encoded data removed]",
      "text/plain": [
       "<Figure size 576x360 with 2 Axes>"
      ]
     },
     "metadata": {
      "needs_background": "light"
     },
     "output_type": "display_data"
    }
   ],
   "source": [
    "import numpy as np\n",
    "# Calculate correlations\n",
    "corr = df_trans.corr()\n",
    "mask = np.zeros_like(corr)\n",
    "mask[np.triu_indices_from(mask)] = True\n",
    "# Heatmap\n",
    "plt.figure(figsize=(8, 5))\n",
    "sns.heatmap(corr,\n",
    "            vmax=.5,\n",
    "            mask=mask,\n",
    "            # annot=True, fmt='.2f',\n",
    "            linewidths=.2, cmap=\"YlGnBu\")"
   ]
  },
  {
   "cell_type": "markdown",
   "metadata": {},
   "source": [
    "Encoding"
   ]
  },
  {
   "cell_type": "code",
   "execution_count": 19,
   "metadata": {},
   "outputs": [],
   "source": [
    "df1 = df_trans.copy()"
   ]
  },
  {
   "cell_type": "code",
   "execution_count": 20,
   "metadata": {},
   "outputs": [
    {
     "data": {
      "text/html": [
       "<div>\n",
       "<style scoped>\n",
       "    .dataframe tbody tr th:only-of-type {\n",
       "        vertical-align: middle;\n",
       "    }\n",
       "\n",
       "    .dataframe tbody tr th {\n",
       "        vertical-align: top;\n",
       "    }\n",
       "\n",
       "    .dataframe thead th {\n",
       "        text-align: right;\n",
       "    }\n",
       "</style>\n",
       "<table border=\"1\" class=\"dataframe\">\n",
       "  <thead>\n",
       "    <tr style=\"text-align: right;\">\n",
       "      <th></th>\n",
       "      <th>position</th>\n",
       "      <th>hourly_rate</th>\n",
       "      <th>num_completed_tasks</th>\n",
       "      <th>hired</th>\n",
       "      <th>category_Furniture Assembly</th>\n",
       "      <th>category_Mounting</th>\n",
       "      <th>category_Moving Help</th>\n",
       "    </tr>\n",
       "  </thead>\n",
       "  <tbody>\n",
       "    <tr>\n",
       "      <td>0</td>\n",
       "      <td>1</td>\n",
       "      <td>38</td>\n",
       "      <td>151</td>\n",
       "      <td>0</td>\n",
       "      <td>1.0</td>\n",
       "      <td>0.0</td>\n",
       "      <td>0.0</td>\n",
       "    </tr>\n",
       "    <tr>\n",
       "      <td>1</td>\n",
       "      <td>2</td>\n",
       "      <td>40</td>\n",
       "      <td>193</td>\n",
       "      <td>0</td>\n",
       "      <td>1.0</td>\n",
       "      <td>0.0</td>\n",
       "      <td>0.0</td>\n",
       "    </tr>\n",
       "    <tr>\n",
       "      <td>2</td>\n",
       "      <td>3</td>\n",
       "      <td>28</td>\n",
       "      <td>0</td>\n",
       "      <td>0</td>\n",
       "      <td>1.0</td>\n",
       "      <td>0.0</td>\n",
       "      <td>0.0</td>\n",
       "    </tr>\n",
       "    <tr>\n",
       "      <td>3</td>\n",
       "      <td>4</td>\n",
       "      <td>43</td>\n",
       "      <td>303</td>\n",
       "      <td>0</td>\n",
       "      <td>1.0</td>\n",
       "      <td>0.0</td>\n",
       "      <td>0.0</td>\n",
       "    </tr>\n",
       "    <tr>\n",
       "      <td>4</td>\n",
       "      <td>5</td>\n",
       "      <td>29</td>\n",
       "      <td>39</td>\n",
       "      <td>0</td>\n",
       "      <td>1.0</td>\n",
       "      <td>0.0</td>\n",
       "      <td>0.0</td>\n",
       "    </tr>\n",
       "    <tr>\n",
       "      <td>5</td>\n",
       "      <td>6</td>\n",
       "      <td>28</td>\n",
       "      <td>2</td>\n",
       "      <td>0</td>\n",
       "      <td>1.0</td>\n",
       "      <td>0.0</td>\n",
       "      <td>0.0</td>\n",
       "    </tr>\n",
       "    <tr>\n",
       "      <td>6</td>\n",
       "      <td>7</td>\n",
       "      <td>29</td>\n",
       "      <td>9</td>\n",
       "      <td>0</td>\n",
       "      <td>1.0</td>\n",
       "      <td>0.0</td>\n",
       "      <td>0.0</td>\n",
       "    </tr>\n",
       "    <tr>\n",
       "      <td>7</td>\n",
       "      <td>8</td>\n",
       "      <td>29</td>\n",
       "      <td>8</td>\n",
       "      <td>0</td>\n",
       "      <td>1.0</td>\n",
       "      <td>0.0</td>\n",
       "      <td>0.0</td>\n",
       "    </tr>\n",
       "    <tr>\n",
       "      <td>8</td>\n",
       "      <td>9</td>\n",
       "      <td>28</td>\n",
       "      <td>0</td>\n",
       "      <td>0</td>\n",
       "      <td>1.0</td>\n",
       "      <td>0.0</td>\n",
       "      <td>0.0</td>\n",
       "    </tr>\n",
       "    <tr>\n",
       "      <td>9</td>\n",
       "      <td>10</td>\n",
       "      <td>35</td>\n",
       "      <td>59</td>\n",
       "      <td>0</td>\n",
       "      <td>1.0</td>\n",
       "      <td>0.0</td>\n",
       "      <td>0.0</td>\n",
       "    </tr>\n",
       "  </tbody>\n",
       "</table>\n",
       "</div>"
      ],
      "text/plain": [
       "   position  hourly_rate  num_completed_tasks  hired  \\\n",
       "0         1           38                  151      0   \n",
       "1         2           40                  193      0   \n",
       "2         3           28                    0      0   \n",
       "3         4           43                  303      0   \n",
       "4         5           29                   39      0   \n",
       "5         6           28                    2      0   \n",
       "6         7           29                    9      0   \n",
       "7         8           29                    8      0   \n",
       "8         9           28                    0      0   \n",
       "9        10           35                   59      0   \n",
       "\n",
       "   category_Furniture Assembly  category_Mounting  category_Moving Help  \n",
       "0                          1.0                0.0                   0.0  \n",
       "1                          1.0                0.0                   0.0  \n",
       "2                          1.0                0.0                   0.0  \n",
       "3                          1.0                0.0                   0.0  \n",
       "4                          1.0                0.0                   0.0  \n",
       "5                          1.0                0.0                   0.0  \n",
       "6                          1.0                0.0                   0.0  \n",
       "7                          1.0                0.0                   0.0  \n",
       "8                          1.0                0.0                   0.0  \n",
       "9                          1.0                0.0                   0.0  "
      ]
     },
     "execution_count": 20,
     "metadata": {},
     "output_type": "execute_result"
    }
   ],
   "source": [
    "from sklearn.preprocessing import OneHotEncoder \n",
    "oneHotEc = OneHotEncoder() \n",
    "# tranforming the column after fitting \n",
    "oneHotEc_array = oneHotEc.fit_transform(df1[['category']]).toarray() \n",
    "# converting arrays to a dataframe \n",
    "oneHotEc_colm = pd.DataFrame(oneHotEc_array) \n",
    "oneHotEc_colm.columns = oneHotEc.get_feature_names(['category'])\n",
    "# concating dataframes  \n",
    "df1 = pd.concat([df1, oneHotEc_colm], axis = 1)  \n",
    "# removing the encoded column. \n",
    "df1 = df1.drop(['category'], axis = 1)  \n",
    "df1.head(10) \n"
   ]
  },
  {
   "cell_type": "code",
   "execution_count": 21,
   "metadata": {},
   "outputs": [
    {
     "data": {
      "text/html": [
       "<div>\n",
       "<style scoped>\n",
       "    .dataframe tbody tr th:only-of-type {\n",
       "        vertical-align: middle;\n",
       "    }\n",
       "\n",
       "    .dataframe tbody tr th {\n",
       "        vertical-align: top;\n",
       "    }\n",
       "\n",
       "    .dataframe thead th {\n",
       "        text-align: right;\n",
       "    }\n",
       "</style>\n",
       "<table border=\"1\" class=\"dataframe\">\n",
       "  <thead>\n",
       "    <tr style=\"text-align: right;\">\n",
       "      <th></th>\n",
       "      <th>hourly_rate</th>\n",
       "      <th>num_completed_tasks</th>\n",
       "      <th>hired</th>\n",
       "      <th>category_Furniture Assembly</th>\n",
       "      <th>category_Mounting</th>\n",
       "      <th>category_Moving Help</th>\n",
       "      <th>position_0</th>\n",
       "      <th>position_1</th>\n",
       "      <th>position_2</th>\n",
       "      <th>position_3</th>\n",
       "      <th>position_4</th>\n",
       "    </tr>\n",
       "  </thead>\n",
       "  <tbody>\n",
       "    <tr>\n",
       "      <td>0</td>\n",
       "      <td>38</td>\n",
       "      <td>151</td>\n",
       "      <td>0</td>\n",
       "      <td>1.0</td>\n",
       "      <td>0.0</td>\n",
       "      <td>0.0</td>\n",
       "      <td>0</td>\n",
       "      <td>0</td>\n",
       "      <td>0</td>\n",
       "      <td>0</td>\n",
       "      <td>1</td>\n",
       "    </tr>\n",
       "    <tr>\n",
       "      <td>1</td>\n",
       "      <td>40</td>\n",
       "      <td>193</td>\n",
       "      <td>0</td>\n",
       "      <td>1.0</td>\n",
       "      <td>0.0</td>\n",
       "      <td>0.0</td>\n",
       "      <td>0</td>\n",
       "      <td>0</td>\n",
       "      <td>0</td>\n",
       "      <td>1</td>\n",
       "      <td>0</td>\n",
       "    </tr>\n",
       "    <tr>\n",
       "      <td>2</td>\n",
       "      <td>28</td>\n",
       "      <td>0</td>\n",
       "      <td>0</td>\n",
       "      <td>1.0</td>\n",
       "      <td>0.0</td>\n",
       "      <td>0.0</td>\n",
       "      <td>0</td>\n",
       "      <td>0</td>\n",
       "      <td>0</td>\n",
       "      <td>1</td>\n",
       "      <td>1</td>\n",
       "    </tr>\n",
       "    <tr>\n",
       "      <td>3</td>\n",
       "      <td>43</td>\n",
       "      <td>303</td>\n",
       "      <td>0</td>\n",
       "      <td>1.0</td>\n",
       "      <td>0.0</td>\n",
       "      <td>0.0</td>\n",
       "      <td>0</td>\n",
       "      <td>0</td>\n",
       "      <td>1</td>\n",
       "      <td>0</td>\n",
       "      <td>0</td>\n",
       "    </tr>\n",
       "    <tr>\n",
       "      <td>4</td>\n",
       "      <td>29</td>\n",
       "      <td>39</td>\n",
       "      <td>0</td>\n",
       "      <td>1.0</td>\n",
       "      <td>0.0</td>\n",
       "      <td>0.0</td>\n",
       "      <td>0</td>\n",
       "      <td>0</td>\n",
       "      <td>1</td>\n",
       "      <td>0</td>\n",
       "      <td>1</td>\n",
       "    </tr>\n",
       "    <tr>\n",
       "      <td>5</td>\n",
       "      <td>28</td>\n",
       "      <td>2</td>\n",
       "      <td>0</td>\n",
       "      <td>1.0</td>\n",
       "      <td>0.0</td>\n",
       "      <td>0.0</td>\n",
       "      <td>0</td>\n",
       "      <td>0</td>\n",
       "      <td>1</td>\n",
       "      <td>1</td>\n",
       "      <td>0</td>\n",
       "    </tr>\n",
       "    <tr>\n",
       "      <td>6</td>\n",
       "      <td>29</td>\n",
       "      <td>9</td>\n",
       "      <td>0</td>\n",
       "      <td>1.0</td>\n",
       "      <td>0.0</td>\n",
       "      <td>0.0</td>\n",
       "      <td>0</td>\n",
       "      <td>0</td>\n",
       "      <td>1</td>\n",
       "      <td>1</td>\n",
       "      <td>1</td>\n",
       "    </tr>\n",
       "    <tr>\n",
       "      <td>7</td>\n",
       "      <td>29</td>\n",
       "      <td>8</td>\n",
       "      <td>0</td>\n",
       "      <td>1.0</td>\n",
       "      <td>0.0</td>\n",
       "      <td>0.0</td>\n",
       "      <td>0</td>\n",
       "      <td>1</td>\n",
       "      <td>0</td>\n",
       "      <td>0</td>\n",
       "      <td>0</td>\n",
       "    </tr>\n",
       "    <tr>\n",
       "      <td>8</td>\n",
       "      <td>28</td>\n",
       "      <td>0</td>\n",
       "      <td>0</td>\n",
       "      <td>1.0</td>\n",
       "      <td>0.0</td>\n",
       "      <td>0.0</td>\n",
       "      <td>0</td>\n",
       "      <td>1</td>\n",
       "      <td>0</td>\n",
       "      <td>0</td>\n",
       "      <td>1</td>\n",
       "    </tr>\n",
       "    <tr>\n",
       "      <td>9</td>\n",
       "      <td>35</td>\n",
       "      <td>59</td>\n",
       "      <td>0</td>\n",
       "      <td>1.0</td>\n",
       "      <td>0.0</td>\n",
       "      <td>0.0</td>\n",
       "      <td>0</td>\n",
       "      <td>1</td>\n",
       "      <td>0</td>\n",
       "      <td>1</td>\n",
       "      <td>0</td>\n",
       "    </tr>\n",
       "  </tbody>\n",
       "</table>\n",
       "</div>"
      ],
      "text/plain": [
       "   hourly_rate  num_completed_tasks  hired  category_Furniture Assembly  \\\n",
       "0           38                  151      0                          1.0   \n",
       "1           40                  193      0                          1.0   \n",
       "2           28                    0      0                          1.0   \n",
       "3           43                  303      0                          1.0   \n",
       "4           29                   39      0                          1.0   \n",
       "5           28                    2      0                          1.0   \n",
       "6           29                    9      0                          1.0   \n",
       "7           29                    8      0                          1.0   \n",
       "8           28                    0      0                          1.0   \n",
       "9           35                   59      0                          1.0   \n",
       "\n",
       "   category_Mounting  category_Moving Help  position_0  position_1  \\\n",
       "0                0.0                   0.0           0           0   \n",
       "1                0.0                   0.0           0           0   \n",
       "2                0.0                   0.0           0           0   \n",
       "3                0.0                   0.0           0           0   \n",
       "4                0.0                   0.0           0           0   \n",
       "5                0.0                   0.0           0           0   \n",
       "6                0.0                   0.0           0           0   \n",
       "7                0.0                   0.0           0           1   \n",
       "8                0.0                   0.0           0           1   \n",
       "9                0.0                   0.0           0           1   \n",
       "\n",
       "   position_2  position_3  position_4  \n",
       "0           0           0           1  \n",
       "1           0           1           0  \n",
       "2           0           1           1  \n",
       "3           1           0           0  \n",
       "4           1           0           1  \n",
       "5           1           1           0  \n",
       "6           1           1           1  \n",
       "7           0           0           0  \n",
       "8           0           0           1  \n",
       "9           0           1           0  "
      ]
     },
     "execution_count": 21,
     "metadata": {},
     "output_type": "execute_result"
    }
   ],
   "source": [
    "df2 = df1.copy()\n",
    "from category_encoders import BinaryEncoder  \n",
    "BinaryEc = BinaryEncoder(cols =['position'])  \n",
    "# tranforming the column after fitting \n",
    "Binary_colm = BinaryEc.fit_transform(df2['position'])\n",
    "\n",
    "# concating dataframe \n",
    "df2 = pd.concat([df2, Binary_colm], axis = 1)  \n",
    "# dropping old column  \n",
    "df2 = df2.drop(['position'], axis = 1) \n",
    "df2.head(10) "
   ]
  },
  {
   "cell_type": "markdown",
   "metadata": {},
   "source": [
    "Feature Scaling"
   ]
  },
  {
   "cell_type": "code",
   "execution_count": 22,
   "metadata": {},
   "outputs": [
    {
     "data": {
      "text/html": [
       "<div>\n",
       "<style scoped>\n",
       "    .dataframe tbody tr th:only-of-type {\n",
       "        vertical-align: middle;\n",
       "    }\n",
       "\n",
       "    .dataframe tbody tr th {\n",
       "        vertical-align: top;\n",
       "    }\n",
       "\n",
       "    .dataframe thead th {\n",
       "        text-align: right;\n",
       "    }\n",
       "</style>\n",
       "<table border=\"1\" class=\"dataframe\">\n",
       "  <thead>\n",
       "    <tr style=\"text-align: right;\">\n",
       "      <th></th>\n",
       "      <th>hourly_rate</th>\n",
       "      <th>num_completed_tasks</th>\n",
       "      <th>hired</th>\n",
       "      <th>category_Furniture Assembly</th>\n",
       "      <th>category_Mounting</th>\n",
       "      <th>category_Moving Help</th>\n",
       "      <th>position_0</th>\n",
       "      <th>position_1</th>\n",
       "      <th>position_2</th>\n",
       "      <th>position_3</th>\n",
       "      <th>position_4</th>\n",
       "    </tr>\n",
       "  </thead>\n",
       "  <tbody>\n",
       "    <tr>\n",
       "      <td>0</td>\n",
       "      <td>0.367647</td>\n",
       "      <td>0.536984</td>\n",
       "      <td>0.0</td>\n",
       "      <td>5.0</td>\n",
       "      <td>0.0</td>\n",
       "      <td>0.0</td>\n",
       "      <td>0.0</td>\n",
       "      <td>0.0</td>\n",
       "      <td>0.0</td>\n",
       "      <td>0.0</td>\n",
       "      <td>5.0</td>\n",
       "    </tr>\n",
       "    <tr>\n",
       "      <td>1</td>\n",
       "      <td>0.404412</td>\n",
       "      <td>0.686344</td>\n",
       "      <td>0.0</td>\n",
       "      <td>5.0</td>\n",
       "      <td>0.0</td>\n",
       "      <td>0.0</td>\n",
       "      <td>0.0</td>\n",
       "      <td>0.0</td>\n",
       "      <td>0.0</td>\n",
       "      <td>5.0</td>\n",
       "      <td>0.0</td>\n",
       "    </tr>\n",
       "    <tr>\n",
       "      <td>2</td>\n",
       "      <td>0.183824</td>\n",
       "      <td>0.000000</td>\n",
       "      <td>0.0</td>\n",
       "      <td>5.0</td>\n",
       "      <td>0.0</td>\n",
       "      <td>0.0</td>\n",
       "      <td>0.0</td>\n",
       "      <td>0.0</td>\n",
       "      <td>0.0</td>\n",
       "      <td>5.0</td>\n",
       "      <td>5.0</td>\n",
       "    </tr>\n",
       "    <tr>\n",
       "      <td>3</td>\n",
       "      <td>0.459559</td>\n",
       "      <td>1.077525</td>\n",
       "      <td>0.0</td>\n",
       "      <td>5.0</td>\n",
       "      <td>0.0</td>\n",
       "      <td>0.0</td>\n",
       "      <td>0.0</td>\n",
       "      <td>0.0</td>\n",
       "      <td>5.0</td>\n",
       "      <td>0.0</td>\n",
       "      <td>0.0</td>\n",
       "    </tr>\n",
       "    <tr>\n",
       "      <td>4</td>\n",
       "      <td>0.202206</td>\n",
       "      <td>0.138691</td>\n",
       "      <td>0.0</td>\n",
       "      <td>5.0</td>\n",
       "      <td>0.0</td>\n",
       "      <td>0.0</td>\n",
       "      <td>0.0</td>\n",
       "      <td>0.0</td>\n",
       "      <td>5.0</td>\n",
       "      <td>0.0</td>\n",
       "      <td>5.0</td>\n",
       "    </tr>\n",
       "  </tbody>\n",
       "</table>\n",
       "</div>"
      ],
      "text/plain": [
       "   hourly_rate  num_completed_tasks  hired  category_Furniture Assembly  \\\n",
       "0     0.367647             0.536984    0.0                          5.0   \n",
       "1     0.404412             0.686344    0.0                          5.0   \n",
       "2     0.183824             0.000000    0.0                          5.0   \n",
       "3     0.459559             1.077525    0.0                          5.0   \n",
       "4     0.202206             0.138691    0.0                          5.0   \n",
       "\n",
       "   category_Mounting  category_Moving Help  position_0  position_1  \\\n",
       "0                0.0                   0.0         0.0         0.0   \n",
       "1                0.0                   0.0         0.0         0.0   \n",
       "2                0.0                   0.0         0.0         0.0   \n",
       "3                0.0                   0.0         0.0         0.0   \n",
       "4                0.0                   0.0         0.0         0.0   \n",
       "\n",
       "   position_2  position_3  position_4  \n",
       "0         0.0         0.0         5.0  \n",
       "1         0.0         5.0         0.0  \n",
       "2         0.0         5.0         5.0  \n",
       "3         5.0         0.0         0.0  \n",
       "4         5.0         0.0         5.0  "
      ]
     },
     "execution_count": 22,
     "metadata": {},
     "output_type": "execute_result"
    }
   ],
   "source": [
    "df3 = df2.copy()\n",
    "# import MinMaxScaler\n",
    "from sklearn.preprocessing import MinMaxScaler\n",
    "scaler = MinMaxScaler(feature_range=(0, 5))\n",
    "df_col = list(df3.columns)\n",
    "df_col.remove('hired')\n",
    "for col in df_col:\n",
    "    df3[col] = df3[col].astype(float)\n",
    "    df3[[col]] = scaler.fit_transform(df3[[col]])\n",
    "df3['hired'] = pd.to_numeric(df3['hired'], downcast='float')\n",
    "df3.head()"
   ]
  },
  {
   "cell_type": "code",
   "execution_count": 23,
   "metadata": {},
   "outputs": [
    {
     "name": "stdout",
     "output_type": "stream",
     "text": [
      "Size of Full Encoded Dataset: (30000, 11)\n"
     ]
    }
   ],
   "source": [
    "print('Size of Full Encoded Dataset: {}'. format(df3.shape))"
   ]
  },
  {
   "cell_type": "markdown",
   "metadata": {},
   "source": [
    "Splitting data into training and testing sets"
   ]
  },
  {
   "cell_type": "code",
   "execution_count": 24,
   "metadata": {},
   "outputs": [],
   "source": [
    "# assign the target to a new dataframe and convert it to a numerical feature\n",
    "df4 = df3.copy()\n",
    "target = df3['hired'].copy()\n",
    "df4.drop(['hired'], axis=1, inplace=True)"
   ]
  },
  {
   "cell_type": "code",
   "execution_count": 25,
   "metadata": {},
   "outputs": [
    {
     "data": {
      "text/html": [
       "<div>\n",
       "<style scoped>\n",
       "    .dataframe tbody tr th:only-of-type {\n",
       "        vertical-align: middle;\n",
       "    }\n",
       "\n",
       "    .dataframe tbody tr th {\n",
       "        vertical-align: top;\n",
       "    }\n",
       "\n",
       "    .dataframe thead th {\n",
       "        text-align: right;\n",
       "    }\n",
       "</style>\n",
       "<table border=\"1\" class=\"dataframe\">\n",
       "  <thead>\n",
       "    <tr style=\"text-align: right;\">\n",
       "      <th></th>\n",
       "      <th>hourly_rate</th>\n",
       "      <th>num_completed_tasks</th>\n",
       "      <th>category_Furniture Assembly</th>\n",
       "      <th>category_Mounting</th>\n",
       "      <th>category_Moving Help</th>\n",
       "      <th>position_0</th>\n",
       "      <th>position_1</th>\n",
       "      <th>position_2</th>\n",
       "      <th>position_3</th>\n",
       "      <th>position_4</th>\n",
       "    </tr>\n",
       "  </thead>\n",
       "  <tbody>\n",
       "    <tr>\n",
       "      <td>0</td>\n",
       "      <td>0.367647</td>\n",
       "      <td>0.536984</td>\n",
       "      <td>5.0</td>\n",
       "      <td>0.0</td>\n",
       "      <td>0.0</td>\n",
       "      <td>0.0</td>\n",
       "      <td>0.0</td>\n",
       "      <td>0.0</td>\n",
       "      <td>0.0</td>\n",
       "      <td>5.0</td>\n",
       "    </tr>\n",
       "    <tr>\n",
       "      <td>1</td>\n",
       "      <td>0.404412</td>\n",
       "      <td>0.686344</td>\n",
       "      <td>5.0</td>\n",
       "      <td>0.0</td>\n",
       "      <td>0.0</td>\n",
       "      <td>0.0</td>\n",
       "      <td>0.0</td>\n",
       "      <td>0.0</td>\n",
       "      <td>5.0</td>\n",
       "      <td>0.0</td>\n",
       "    </tr>\n",
       "    <tr>\n",
       "      <td>2</td>\n",
       "      <td>0.183824</td>\n",
       "      <td>0.000000</td>\n",
       "      <td>5.0</td>\n",
       "      <td>0.0</td>\n",
       "      <td>0.0</td>\n",
       "      <td>0.0</td>\n",
       "      <td>0.0</td>\n",
       "      <td>0.0</td>\n",
       "      <td>5.0</td>\n",
       "      <td>5.0</td>\n",
       "    </tr>\n",
       "    <tr>\n",
       "      <td>3</td>\n",
       "      <td>0.459559</td>\n",
       "      <td>1.077525</td>\n",
       "      <td>5.0</td>\n",
       "      <td>0.0</td>\n",
       "      <td>0.0</td>\n",
       "      <td>0.0</td>\n",
       "      <td>0.0</td>\n",
       "      <td>5.0</td>\n",
       "      <td>0.0</td>\n",
       "      <td>0.0</td>\n",
       "    </tr>\n",
       "    <tr>\n",
       "      <td>4</td>\n",
       "      <td>0.202206</td>\n",
       "      <td>0.138691</td>\n",
       "      <td>5.0</td>\n",
       "      <td>0.0</td>\n",
       "      <td>0.0</td>\n",
       "      <td>0.0</td>\n",
       "      <td>0.0</td>\n",
       "      <td>5.0</td>\n",
       "      <td>0.0</td>\n",
       "      <td>5.0</td>\n",
       "    </tr>\n",
       "  </tbody>\n",
       "</table>\n",
       "</div>"
      ],
      "text/plain": [
       "   hourly_rate  num_completed_tasks  category_Furniture Assembly  \\\n",
       "0     0.367647             0.536984                          5.0   \n",
       "1     0.404412             0.686344                          5.0   \n",
       "2     0.183824             0.000000                          5.0   \n",
       "3     0.459559             1.077525                          5.0   \n",
       "4     0.202206             0.138691                          5.0   \n",
       "\n",
       "   category_Mounting  category_Moving Help  position_0  position_1  \\\n",
       "0                0.0                   0.0         0.0         0.0   \n",
       "1                0.0                   0.0         0.0         0.0   \n",
       "2                0.0                   0.0         0.0         0.0   \n",
       "3                0.0                   0.0         0.0         0.0   \n",
       "4                0.0                   0.0         0.0         0.0   \n",
       "\n",
       "   position_2  position_3  position_4  \n",
       "0         0.0         0.0         5.0  \n",
       "1         0.0         5.0         0.0  \n",
       "2         0.0         5.0         5.0  \n",
       "3         5.0         0.0         0.0  \n",
       "4         5.0         0.0         5.0  "
      ]
     },
     "execution_count": 25,
     "metadata": {},
     "output_type": "execute_result"
    }
   ],
   "source": [
    "df4.head()"
   ]
  },
  {
   "cell_type": "code",
   "execution_count": 26,
   "metadata": {
    "scrolled": true
   },
   "outputs": [
    {
     "name": "stdout",
     "output_type": "stream",
     "text": [
      "Number transactions X_train dataset:  (22500, 10)\n",
      "Number transactions y_train dataset:  (22500,)\n",
      "Number transactions X_test dataset:  (7500, 10)\n",
      "Number transactions y_test dataset:  (7500,)\n"
     ]
    }
   ],
   "source": [
    "from sklearn.model_selection import train_test_split\n",
    "X_train, X_test, y_train, y_test = train_test_split(df4,\n",
    "                                                    target,\n",
    "                                                    test_size=0.25,\n",
    "                                                    random_state=7,\n",
    "                                                    stratify=target)  \n",
    "print(\"Number transactions X_train dataset: \", X_train.shape)\n",
    "print(\"Number transactions y_train dataset: \", y_train.shape)\n",
    "print(\"Number transactions X_test dataset: \", X_test.shape)\n",
    "print(\"Number transactions y_test dataset: \", y_test.shape)"
   ]
  },
  {
   "cell_type": "code",
   "execution_count": 27,
   "metadata": {},
   "outputs": [],
   "source": [
    "import warnings\n",
    "warnings.simplefilter(action='ignore', category=FutureWarning)"
   ]
  },
  {
   "cell_type": "markdown",
   "metadata": {},
   "source": [
    "Building Machine Learning Models"
   ]
  },
  {
   "cell_type": "code",
   "execution_count": 28,
   "metadata": {},
   "outputs": [],
   "source": [
    "from sklearn.model_selection import cross_validate\n",
    "from sklearn.model_selection import cross_val_score\n",
    "from sklearn.model_selection import KFold\n",
    "from sklearn.linear_model import LogisticRegression\n",
    "from sklearn.tree import DecisionTreeClassifier\n",
    "from sklearn.ensemble import RandomForestClassifier, GradientBoostingClassifier\n",
    "from sklearn.svm import SVC\n",
    "from sklearn.neighbors import KNeighborsClassifier\n",
    "from sklearn.naive_bayes import GaussianNB"
   ]
  },
  {
   "cell_type": "code",
   "execution_count": 29,
   "metadata": {},
   "outputs": [],
   "source": [
    "# selection of algorithms to consider and set performance measure\n",
    "models = []\n",
    "models.append(('Logistic Regression', LogisticRegression(solver='liblinear', random_state=7,\n",
    "                                                         class_weight='balanced')))\n",
    "models.append(('Random Forest', RandomForestClassifier(\n",
    "    n_estimators=100, random_state=7)))\n",
    "models.append(('SVM', SVC(gamma='auto', random_state=7)))\n",
    "models.append(('KNN', KNeighborsClassifier()))\n",
    "models.append(('Decision Tree Classifier',\n",
    "               DecisionTreeClassifier(random_state=7)))\n",
    "models.append(('Gaussian NB', GaussianNB()))\n",
    "models.append(('GradientBoosting',GradientBoostingClassifier(random_state=7)))"
   ]
  },
  {
   "cell_type": "code",
   "execution_count": 30,
   "metadata": {
    "scrolled": false
   },
   "outputs": [
    {
     "data": {
      "text/html": [
       "<div>\n",
       "<style scoped>\n",
       "    .dataframe tbody tr th:only-of-type {\n",
       "        vertical-align: middle;\n",
       "    }\n",
       "\n",
       "    .dataframe tbody tr th {\n",
       "        vertical-align: top;\n",
       "    }\n",
       "\n",
       "    .dataframe thead th {\n",
       "        text-align: right;\n",
       "    }\n",
       "</style>\n",
       "<table border=\"1\" class=\"dataframe\">\n",
       "  <thead>\n",
       "    <tr style=\"text-align: right;\">\n",
       "      <th></th>\n",
       "      <th>Algorithm</th>\n",
       "      <th>ROC AUC Mean</th>\n",
       "      <th>ROC AUC STD</th>\n",
       "      <th>Accuracy Mean</th>\n",
       "      <th>Accuracy STD</th>\n",
       "    </tr>\n",
       "  </thead>\n",
       "  <tbody>\n",
       "    <tr>\n",
       "      <td>6</td>\n",
       "      <td>GradientBoosting</td>\n",
       "      <td>82.03</td>\n",
       "      <td>1.48</td>\n",
       "      <td>94.34</td>\n",
       "      <td>0.48</td>\n",
       "    </tr>\n",
       "    <tr>\n",
       "      <td>1</td>\n",
       "      <td>Random Forest</td>\n",
       "      <td>79.67</td>\n",
       "      <td>1.88</td>\n",
       "      <td>94.09</td>\n",
       "      <td>0.49</td>\n",
       "    </tr>\n",
       "    <tr>\n",
       "      <td>0</td>\n",
       "      <td>Logistic Regression</td>\n",
       "      <td>77.42</td>\n",
       "      <td>2.10</td>\n",
       "      <td>65.42</td>\n",
       "      <td>1.27</td>\n",
       "    </tr>\n",
       "    <tr>\n",
       "      <td>3</td>\n",
       "      <td>KNN</td>\n",
       "      <td>75.05</td>\n",
       "      <td>1.39</td>\n",
       "      <td>94.04</td>\n",
       "      <td>0.57</td>\n",
       "    </tr>\n",
       "    <tr>\n",
       "      <td>5</td>\n",
       "      <td>Gaussian NB</td>\n",
       "      <td>74.57</td>\n",
       "      <td>2.42</td>\n",
       "      <td>94.24</td>\n",
       "      <td>0.53</td>\n",
       "    </tr>\n",
       "    <tr>\n",
       "      <td>4</td>\n",
       "      <td>Decision Tree Classifier</td>\n",
       "      <td>72.47</td>\n",
       "      <td>1.89</td>\n",
       "      <td>93.55</td>\n",
       "      <td>0.61</td>\n",
       "    </tr>\n",
       "    <tr>\n",
       "      <td>2</td>\n",
       "      <td>SVM</td>\n",
       "      <td>58.49</td>\n",
       "      <td>2.58</td>\n",
       "      <td>94.32</td>\n",
       "      <td>0.49</td>\n",
       "    </tr>\n",
       "  </tbody>\n",
       "</table>\n",
       "</div>"
      ],
      "text/plain": [
       "                  Algorithm  ROC AUC Mean  ROC AUC STD  Accuracy Mean  \\\n",
       "6          GradientBoosting         82.03         1.48          94.34   \n",
       "1             Random Forest         79.67         1.88          94.09   \n",
       "0       Logistic Regression         77.42         2.10          65.42   \n",
       "3                       KNN         75.05         1.39          94.04   \n",
       "5               Gaussian NB         74.57         2.42          94.24   \n",
       "4  Decision Tree Classifier         72.47         1.89          93.55   \n",
       "2                       SVM         58.49         2.58          94.32   \n",
       "\n",
       "   Accuracy STD  \n",
       "6          0.48  \n",
       "1          0.49  \n",
       "0          1.27  \n",
       "3          0.57  \n",
       "5          0.53  \n",
       "4          0.61  \n",
       "2          0.49  "
      ]
     },
     "execution_count": 30,
     "metadata": {},
     "output_type": "execute_result"
    }
   ],
   "source": [
    "acc_results = []\n",
    "auc_results = []\n",
    "names = []\n",
    "# set table to table to populate with performance results\n",
    "col = ['Algorithm', 'ROC AUC Mean', 'ROC AUC STD', \n",
    "       'Accuracy Mean', 'Accuracy STD']\n",
    "df_results = pd.DataFrame(columns=col)\n",
    "i = 0\n",
    "# evaluate each model using cross-validation\n",
    "for name, model in models:\n",
    "    kfold = KFold(\n",
    "        n_splits=10, random_state=7)  # 10-fold cross-validation\n",
    "\n",
    "    cv_acc_results = cross_val_score(  # accuracy scoring\n",
    "        model, X_train, y_train, cv = kfold, scoring = 'accuracy')\n",
    "\n",
    "    cv_auc_results = cross_val_score(  # roc_auc scoring\n",
    "        model, X_train, y_train, cv = kfold, scoring = 'roc_auc')\n",
    "\n",
    "    acc_results.append(cv_acc_results)\n",
    "    auc_results.append(cv_auc_results)\n",
    "    names.append(name)\n",
    "    df_results.loc[i] = [name,\n",
    "                         round(cv_auc_results.mean()*100, 2),\n",
    "                         round(cv_auc_results.std()*100, 2),\n",
    "                         round(cv_acc_results.mean()*100, 2),\n",
    "                         round(cv_acc_results.std()*100, 2)\n",
    "                         ]\n",
    "    i += 1\n",
    "df_results.sort_values(by=['ROC AUC Mean'], ascending=False)"
   ]
  },
  {
   "cell_type": "markdown",
   "metadata": {},
   "source": [
    "Classification Accuracy is the number of correct predictions made as a ratio of all predictions made.\n",
    "It is the most common evaluation metric for classification problems. However, it is often misused as it is only really suitable when there are an equal number of observations in each class and all predictions and prediction errors are equally important. It is not the case in this project, so a different scoring metric may be more suitable."
   ]
  },
  {
   "cell_type": "code",
   "execution_count": 35,
   "metadata": {
    "scrolled": false
   },
   "outputs": [
    {
     "data": {
      "image/png": "[encoded data removed]",
      "text/plain": [
       "<Figure size 1080x576 with 1 Axes>"
      ]
     },
     "metadata": {
      "needs_background": "light"
     },
     "output_type": "display_data"
    }
   ],
   "source": [
    "fig = plt.figure(figsize=(15, 8))\n",
    "fig.suptitle('Algorithm Accuracy Comparison')\n",
    "ax = fig.add_subplot(111)\n",
    "plt.boxplot(acc_results)\n",
    "ax.set_xticklabels(names)\n",
    "plt.show()"
   ]
  },
  {
   "cell_type": "markdown",
   "metadata": {},
   "source": [
    "Area under ROC Curve (or AUC for short) is a performance metric for binary classification problems.\n",
    "The AUC represents a model’s ability to discriminate between positive and negative classes. An area of 1.0 represents a model that made all predictions perfectly. An area of 0.5 represents a model as good as random."
   ]
  },
  {
   "cell_type": "code",
   "execution_count": 36,
   "metadata": {},
   "outputs": [
    {
     "data": {
      "image/png": "[encoded data removed]",
      "text/plain": [
       "<Figure size 1080x576 with 1 Axes>"
      ]
     },
     "metadata": {
      "needs_background": "light"
     },
     "output_type": "display_data"
    }
   ],
   "source": [
    "fig = plt.figure(figsize=(15, 8))\n",
    "fig.suptitle('Algorithm ROC AUC Comparison')\n",
    "ax = fig.add_subplot(111)\n",
    "plt.boxplot(auc_results)\n",
    "ax.set_xticklabels(names)\n",
    "plt.show()"
   ]
  },
  {
   "cell_type": "markdown",
   "metadata": {},
   "source": [
    "Based on our ROC AUC comparison analysis, Gradient Boosting and Random Forest show the highest mean AUC scores. We will shortlist these two algorithms for further analysis."
   ]
  },
  {
   "cell_type": "markdown",
   "metadata": {},
   "source": [
    "Parameter Tuning for Random Forest"
   ]
  },
  {
   "cell_type": "code",
   "execution_count": 75,
   "metadata": {},
   "outputs": [
    {
     "name": "stderr",
     "output_type": "stream",
     "text": [
      "C:\\Users\\fanxin\\Anaconda3\\lib\\site-packages\\sklearn\\model_selection\\_search.py:849: FutureWarning:\n",
      "\n",
      "The parameter 'iid' is deprecated in 0.22 and will be removed in 0.24.\n",
      "\n"
     ]
    },
    {
     "name": "stdout",
     "output_type": "stream",
     "text": [
      "====================\n",
      "best params: RandomForestClassifier(class_weight='balanced', max_depth=15, n_estimators=125,\n",
      "                       random_state=7)\n",
      "best params: {'max_depth': 15, 'min_samples_leaf': 1, 'min_samples_split': 2, 'n_estimators': 125}\n",
      "best score: 0.8333764228121043\n",
      "====================\n"
     ]
    }
   ],
   "source": [
    "from sklearn.model_selection import GridSearchCV\n",
    "rf_classifier = RandomForestClassifier(class_weight = \"balanced\",\n",
    "                                       random_state=7)\n",
    "param_grid = {'n_estimators': [50, 75, 100, 125, 150, 175],\n",
    "              'min_samples_split':[2,4,6,8,10],\n",
    "              'min_samples_leaf': [1, 2, 3, 4],\n",
    "              'max_depth': [5, 10, 15, 20, 25]}\n",
    "\n",
    "rf_obj = GridSearchCV(rf_classifier,\n",
    "                        iid=True,\n",
    "                        return_train_score=True,\n",
    "                        param_grid=param_grid,\n",
    "                        scoring='roc_auc',\n",
    "                        cv=10)\n",
    "\n",
    "rf_fit = rf_obj.fit(X_train, y_train)\n",
    "rf_opt = rf_fit.best_estimator_\n",
    "\n",
    "print('='*20)\n",
    "print(\"best params: \" + str(rf_obj.best_estimator_))\n",
    "print(\"best params: \" + str(rf_obj.best_params_))\n",
    "print('best score:', rf_obj.best_score_)\n",
    "print('='*20)"
   ]
  },
  {
   "cell_type": "code",
   "execution_count": 76,
   "metadata": {},
   "outputs": [
    {
     "data": {
      "image/png": "[encoded data removed]",
      "text/plain": [
       "<Figure size 1080x504 with 1 Axes>"
      ]
     },
     "metadata": {
      "needs_background": "light"
     },
     "output_type": "display_data"
    }
   ],
   "source": [
    "importances = rf_opt.feature_importances_\n",
    "indices = np.argsort(importances)[::-1] # Sort feature importances in descending order\n",
    "names = [X_train.columns[i] for i in indices] # Rearrange feature names so they match the sorted feature importances\n",
    "plt.figure(figsize=(15, 7)) # Create plot\n",
    "plt.title(\"Feature Importance\") # Create plot title\n",
    "plt.bar(range(X_train.shape[1]), importances[indices]) # Add bars\n",
    "plt.xticks(range(X_train.shape[1]), names, rotation=90) # Add feature names as x-axis labels\n",
    "plt.show() # Show plot"
   ]
  },
  {
   "cell_type": "code",
   "execution_count": 83,
   "metadata": {
    "scrolled": true
   },
   "outputs": [
    {
     "data": {
      "text/html": [
       "<div>\n",
       "<style scoped>\n",
       "    .dataframe tbody tr th:only-of-type {\n",
       "        vertical-align: middle;\n",
       "    }\n",
       "\n",
       "    .dataframe tbody tr th {\n",
       "        vertical-align: top;\n",
       "    }\n",
       "\n",
       "    .dataframe thead th {\n",
       "        text-align: right;\n",
       "    }\n",
       "</style>\n",
       "<table border=\"1\" class=\"dataframe\">\n",
       "  <thead>\n",
       "    <tr style=\"text-align: right;\">\n",
       "      <th></th>\n",
       "      <th>Feature</th>\n",
       "      <th>Coefficient</th>\n",
       "    </tr>\n",
       "  </thead>\n",
       "  <tbody>\n",
       "    <tr>\n",
       "      <td>0</td>\n",
       "      <td>num_completed_tasks</td>\n",
       "      <td>0.441789</td>\n",
       "    </tr>\n",
       "    <tr>\n",
       "      <td>1</td>\n",
       "      <td>hourly_rate</td>\n",
       "      <td>0.238153</td>\n",
       "    </tr>\n",
       "    <tr>\n",
       "      <td>2</td>\n",
       "      <td>position_1</td>\n",
       "      <td>0.149454</td>\n",
       "    </tr>\n",
       "    <tr>\n",
       "      <td>3</td>\n",
       "      <td>position_2</td>\n",
       "      <td>0.059616</td>\n",
       "    </tr>\n",
       "    <tr>\n",
       "      <td>4</td>\n",
       "      <td>position_3</td>\n",
       "      <td>0.049866</td>\n",
       "    </tr>\n",
       "    <tr>\n",
       "      <td>5</td>\n",
       "      <td>category_Furniture Assembly</td>\n",
       "      <td>0.009777</td>\n",
       "    </tr>\n",
       "    <tr>\n",
       "      <td>6</td>\n",
       "      <td>category_Mounting</td>\n",
       "      <td>0.009382</td>\n",
       "    </tr>\n",
       "    <tr>\n",
       "      <td>7</td>\n",
       "      <td>category_Moving Help</td>\n",
       "      <td>0.009361</td>\n",
       "    </tr>\n",
       "    <tr>\n",
       "      <td>8</td>\n",
       "      <td>position_0</td>\n",
       "      <td>0.000000</td>\n",
       "    </tr>\n",
       "  </tbody>\n",
       "</table>\n",
       "</div>"
      ],
      "text/plain": [
       "                       Feature  Coefficient\n",
       "0          num_completed_tasks     0.441789\n",
       "1                  hourly_rate     0.238153\n",
       "2                   position_1     0.149454\n",
       "3                   position_2     0.059616\n",
       "4                   position_3     0.049866\n",
       "5  category_Furniture Assembly     0.009777\n",
       "6            category_Mounting     0.009382\n",
       "7         category_Moving Help     0.009361\n",
       "8                   position_0     0.000000"
      ]
     },
     "execution_count": 83,
     "metadata": {},
     "output_type": "execute_result"
    }
   ],
   "source": [
    "importances = rf_opt.feature_importances_\n",
    "df_param_coeff = pd.DataFrame(columns=['Feature', 'Coefficient'])\n",
    "for i in range(9):\n",
    "    feat = X_train.columns[i]\n",
    "    coeff = importances[i]\n",
    "    df_param_coeff.loc[i] = (feat, coeff)\n",
    "df_param_coeff.sort_values(by='Coefficient', ascending=False, inplace=True)\n",
    "df_param_coeff = df_param_coeff.reset_index(drop=True)\n",
    "df_param_coeff"
   ]
  },
  {
   "cell_type": "code",
   "execution_count": 85,
   "metadata": {},
   "outputs": [
    {
     "data": {
      "text/plain": [
       "Text(0.5, 257.44, 'Predicted label')"
      ]
     },
     "execution_count": 85,
     "metadata": {},
     "output_type": "execute_result"
    },
    {
     "data": {
      "image/png": "[encoded data removed]",
      "text/plain": [
       "<Figure size 432x288 with 2 Axes>"
      ]
     },
     "metadata": {
      "needs_background": "light"
     },
     "output_type": "display_data"
    }
   ],
   "source": [
    "from sklearn import metrics\n",
    "cnf_matrix = metrics.confusion_matrix(y_test, rf_opt.predict(X_test))\n",
    "class_names=[0,1] # name  of classes\n",
    "fig, ax = plt.subplots()\n",
    "tick_marks = np.arange(len(class_names))\n",
    "plt.xticks(tick_marks, class_names)\n",
    "plt.yticks(tick_marks, class_names)\n",
    "# create heatmap\n",
    "sns.heatmap(pd.DataFrame(cnf_matrix), annot=True, cmap=\"YlGnBu\" ,fmt='g')\n",
    "ax.xaxis.set_label_position(\"top\")\n",
    "plt.tight_layout()\n",
    "plt.title('Confusion matrix', y=1.1)\n",
    "plt.ylabel('Actual label')\n",
    "plt.xlabel('Predicted label')"
   ]
  },
  {
   "cell_type": "code",
   "execution_count": 86,
   "metadata": {},
   "outputs": [
    {
     "name": "stdout",
     "output_type": "stream",
     "text": [
      "Accuracy of RandomForest Classifier on test set: 90.85\n"
     ]
    }
   ],
   "source": [
    "print('Accuracy of RandomForest Classifier on test set: {:.2f}'.format(rf_opt.score(X_test, y_test)*100))"
   ]
  },
  {
   "cell_type": "code",
   "execution_count": 90,
   "metadata": {
    "scrolled": true
   },
   "outputs": [
    {
     "name": "stdout",
     "output_type": "stream",
     "text": [
      "              precision    recall  f1-score   support\n",
      "\n",
      "         0.0       0.97      0.93      0.95      7074\n",
      "         1.0       0.32      0.54      0.40       426\n",
      "\n",
      "    accuracy                           0.91      7500\n",
      "   macro avg       0.65      0.74      0.68      7500\n",
      "weighted avg       0.93      0.91      0.92      7500\n",
      "\n"
     ]
    }
   ],
   "source": [
    "from sklearn.metrics import classification_report,roc_auc_score\n",
    "# Classification report for the optimised RF Regression\n",
    "rf_opt.fit(X_train, y_train)\n",
    "print(classification_report(y_test, rf_opt.predict(X_test)))"
   ]
  },
  {
   "cell_type": "code",
   "execution_count": 91,
   "metadata": {},
   "outputs": [
    {
     "name": "stdout",
     "output_type": "stream",
     "text": [
      "AUC score: 0.848\n"
     ]
    }
   ],
   "source": [
    "rf_opt.fit(X_train, y_train) # fit optimised model to the training data\n",
    "probs = rf_opt.predict_proba(X_test) # predict probabilities\n",
    "probs = probs[:, 1] # we will only keep probabilities associated with the tasker being hired\n",
    "rf_opt_roc_auc = roc_auc_score(y_test, probs) # calculate AUC score using test dataset\n",
    "print('AUC score: %.3f' % rf_opt_roc_auc)"
   ]
  },
  {
   "cell_type": "markdown",
   "metadata": {},
   "source": [
    "Parameter Tuning for Gradient Boosting"
   ]
  },
  {
   "cell_type": "code",
   "execution_count": 117,
   "metadata": {},
   "outputs": [
    {
     "data": {
      "text/plain": [
       "(GradientBoostingClassifier(n_estimators=480, random_state=7),\n",
       " {'n_estimators': 480},\n",
       " 0.835481093937975)"
      ]
     },
     "execution_count": 117,
     "metadata": {},
     "output_type": "execute_result"
    }
   ],
   "source": [
    "param_test1 = {'n_estimators':range(300,500,20)}\n",
    "gsearch1 = GridSearchCV(\n",
    "    estimator = GradientBoostingClassifier( \n",
    "#         min_samples_split=2,\n",
    "#         min_samples_leaf=1,\n",
    "#         max_depth=15,\n",
    "#         max_features='sqrt',\n",
    "        random_state=7), \n",
    "    param_grid = param_test1, \n",
    "    scoring='roc_auc',\n",
    "    n_jobs=4,\n",
    "    iid=True, \n",
    "    cv=10)\n",
    "gsearch1.fit(X_train, y_train)\n",
    "gsearch1.best_estimator_, gsearch1.best_params_, gsearch1.best_score_"
   ]
  },
  {
   "cell_type": "code",
   "execution_count": 118,
   "metadata": {},
   "outputs": [
    {
     "data": {
      "text/plain": [
       "(GradientBoostingClassifier(max_depth=5, n_estimators=480, random_state=7),\n",
       " {'max_depth': 5},\n",
       " 0.857528543581497)"
      ]
     },
     "execution_count": 118,
     "metadata": {},
     "output_type": "execute_result"
    }
   ],
   "source": [
    "param_test2 = {'max_depth': [5, 10, 15, 20, 25]}\n",
    "gsearch2 = GridSearchCV(\n",
    "    estimator = GradientBoostingClassifier(\n",
    "        n_estimators=480, \n",
    "#         min_samples_split=2,\n",
    "#         min_samples_leaf=1,\n",
    "#         max_features='sqrt',  \n",
    "        random_state=7), \n",
    "    param_grid = param_test2, \n",
    "    scoring='roc_auc',\n",
    "    n_jobs=4,\n",
    "    iid=True, \n",
    "    cv=10)\n",
    "gsearch2.fit(X_train, y_train)\n",
    "gsearch2.best_estimator_, gsearch2.best_params_, gsearch2.best_score_"
   ]
  },
  {
   "cell_type": "code",
   "execution_count": 119,
   "metadata": {},
   "outputs": [
    {
     "data": {
      "text/plain": [
       "(GradientBoostingClassifier(max_depth=5, min_samples_split=6, n_estimators=480,\n",
       "                            random_state=7),\n",
       " {'min_samples_leaf': 1, 'min_samples_split': 6},\n",
       " 0.860702673166545)"
      ]
     },
     "execution_count": 119,
     "metadata": {},
     "output_type": "execute_result"
    }
   ],
   "source": [
    "param_test3 = {'min_samples_split':[2,4,6,8,10],'min_samples_leaf': [1, 2, 3, 4]}\n",
    "gsearch3 = GridSearchCV(\n",
    "    estimator = GradientBoostingClassifier(\n",
    "        n_estimators=480, \n",
    "        max_depth=5, \n",
    "        random_state=7), \n",
    "    param_grid = param_test3, \n",
    "    scoring='roc_auc',\n",
    "    n_jobs=4,\n",
    "    iid=True, \n",
    "    cv=10)\n",
    "gsearch3.fit(X_train, y_train)\n",
    "gsearch3.best_estimator_, gsearch3.best_params_, gsearch3.best_score_"
   ]
  },
  {
   "cell_type": "code",
   "execution_count": 120,
   "metadata": {},
   "outputs": [
    {
     "data": {
      "text/plain": [
       "(GradientBoostingClassifier(max_depth=5, min_samples_split=6, n_estimators=480,\n",
       "                            random_state=7, subsample=0.85),\n",
       " {'subsample': 0.85},\n",
       " 0.8669563494752045)"
      ]
     },
     "execution_count": 120,
     "metadata": {},
     "output_type": "execute_result"
    }
   ],
   "source": [
    "param_test4 = {'subsample':[0.6,0.7,0.75,0.8,0.85,0.9]}\n",
    "gsearch4 = GridSearchCV(\n",
    "    estimator = GradientBoostingClassifier(\n",
    "        n_estimators=480, \n",
    "        max_depth=5, \n",
    "        min_samples_leaf=1, \n",
    "        min_samples_split = 6,\n",
    "        random_state=7), \n",
    "    param_grid = param_test4, \n",
    "    scoring='roc_auc',\n",
    "    n_jobs=4,\n",
    "    iid=True, \n",
    "    cv=10)\n",
    "gb_fit = gb_obj.fit(X_train, y_train)\n",
    "gb_opt = gb_fit.best_estimator_\n",
    "gsearch4.fit(X_train, y_train)\n",
    "gsearch4.best_estimator_, gsearch4.best_params_, gsearch4.best_score_"
   ]
  },
  {
   "cell_type": "code",
   "execution_count": 131,
   "metadata": {},
   "outputs": [],
   "source": [
    "gb_opt = gsearch4.best_estimator_"
   ]
  },
  {
   "cell_type": "code",
   "execution_count": 132,
   "metadata": {},
   "outputs": [
    {
     "data": {
      "image/png": "[encoded data removed]",
      "text/plain": [
       "<Figure size 1080x504 with 1 Axes>"
      ]
     },
     "metadata": {
      "needs_background": "light"
     },
     "output_type": "display_data"
    }
   ],
   "source": [
    "importances_1 = gb_opt.feature_importances_\n",
    "indices_1 = np.argsort(importances_1)[::-1] # Sort feature importances in descending order\n",
    "names_1 = [X_train.columns[i] for i in indices_1] # Rearrange feature names so they match the sorted feature importances\n",
    "plt.figure(figsize=(15, 7)) # Create plot\n",
    "plt.title(\"Feature Importance\") # Create plot title\n",
    "plt.bar(range(X_train.shape[1]), importances_1[indices_1]) # Add bars\n",
    "plt.xticks(range(X_train.shape[1]), names_1, rotation=90) # Add feature names as x-axis labels\n",
    "plt.show() # Show plot"
   ]
  },
  {
   "cell_type": "code",
   "execution_count": 133,
   "metadata": {},
   "outputs": [
    {
     "data": {
      "text/html": [
       "<div>\n",
       "<style scoped>\n",
       "    .dataframe tbody tr th:only-of-type {\n",
       "        vertical-align: middle;\n",
       "    }\n",
       "\n",
       "    .dataframe tbody tr th {\n",
       "        vertical-align: top;\n",
       "    }\n",
       "\n",
       "    .dataframe thead th {\n",
       "        text-align: right;\n",
       "    }\n",
       "</style>\n",
       "<table border=\"1\" class=\"dataframe\">\n",
       "  <thead>\n",
       "    <tr style=\"text-align: right;\">\n",
       "      <th></th>\n",
       "      <th>Feature</th>\n",
       "      <th>Coefficient</th>\n",
       "    </tr>\n",
       "  </thead>\n",
       "  <tbody>\n",
       "    <tr>\n",
       "      <td>0</td>\n",
       "      <td>num_completed_tasks</td>\n",
       "      <td>0.425291</td>\n",
       "    </tr>\n",
       "    <tr>\n",
       "      <td>1</td>\n",
       "      <td>hourly_rate</td>\n",
       "      <td>0.187632</td>\n",
       "    </tr>\n",
       "    <tr>\n",
       "      <td>2</td>\n",
       "      <td>position_2</td>\n",
       "      <td>0.101190</td>\n",
       "    </tr>\n",
       "    <tr>\n",
       "      <td>3</td>\n",
       "      <td>position_1</td>\n",
       "      <td>0.098721</td>\n",
       "    </tr>\n",
       "    <tr>\n",
       "      <td>4</td>\n",
       "      <td>position_3</td>\n",
       "      <td>0.093192</td>\n",
       "    </tr>\n",
       "    <tr>\n",
       "      <td>5</td>\n",
       "      <td>category_Mounting</td>\n",
       "      <td>0.021323</td>\n",
       "    </tr>\n",
       "    <tr>\n",
       "      <td>6</td>\n",
       "      <td>category_Furniture Assembly</td>\n",
       "      <td>0.021222</td>\n",
       "    </tr>\n",
       "    <tr>\n",
       "      <td>7</td>\n",
       "      <td>category_Moving Help</td>\n",
       "      <td>0.018098</td>\n",
       "    </tr>\n",
       "    <tr>\n",
       "      <td>8</td>\n",
       "      <td>position_0</td>\n",
       "      <td>0.000000</td>\n",
       "    </tr>\n",
       "  </tbody>\n",
       "</table>\n",
       "</div>"
      ],
      "text/plain": [
       "                       Feature  Coefficient\n",
       "0          num_completed_tasks     0.425291\n",
       "1                  hourly_rate     0.187632\n",
       "2                   position_2     0.101190\n",
       "3                   position_1     0.098721\n",
       "4                   position_3     0.093192\n",
       "5            category_Mounting     0.021323\n",
       "6  category_Furniture Assembly     0.021222\n",
       "7         category_Moving Help     0.018098\n",
       "8                   position_0     0.000000"
      ]
     },
     "execution_count": 133,
     "metadata": {},
     "output_type": "execute_result"
    }
   ],
   "source": [
    "importances_1 = gb_opt.feature_importances_\n",
    "df_param_coeff_1 = pd.DataFrame(columns=['Feature', 'Coefficient'])\n",
    "for i in range(9):\n",
    "    feat_1 = X_train.columns[i]\n",
    "    coeff_1 = importances_1[i]\n",
    "    df_param_coeff_1.loc[i] = (feat_1, coeff_1)\n",
    "df_param_coeff_1.sort_values(by='Coefficient', ascending=False, inplace=True)\n",
    "df_param_coeff_1 = df_param_coeff_1.reset_index(drop=True)\n",
    "df_param_coeff_1"
   ]
  },
  {
   "cell_type": "code",
   "execution_count": 134,
   "metadata": {},
   "outputs": [
    {
     "data": {
      "text/plain": [
       "Text(0.5, 257.44, 'Predicted label')"
      ]
     },
     "execution_count": 134,
     "metadata": {},
     "output_type": "execute_result"
    },
    {
     "data": {
      "image/png": "[encoded data removed]",
      "text/plain": [
       "<Figure size 432x288 with 2 Axes>"
      ]
     },
     "metadata": {
      "needs_background": "light"
     },
     "output_type": "display_data"
    }
   ],
   "source": [
    "cnf_matrix_1 = metrics.confusion_matrix(y_test, gb_opt.predict(X_test))\n",
    "class_names=[0,1] # name  of classes\n",
    "fig, ax = plt.subplots()\n",
    "tick_marks = np.arange(len(class_names))\n",
    "plt.xticks(tick_marks, class_names)\n",
    "plt.yticks(tick_marks, class_names)\n",
    "# create heatmap\n",
    "sns.heatmap(pd.DataFrame(cnf_matrix_1), annot=True, cmap=\"YlGnBu\" ,fmt='g')\n",
    "ax.xaxis.set_label_position(\"top\")\n",
    "plt.tight_layout()\n",
    "plt.title('Confusion matrix', y=1.1)\n",
    "plt.ylabel('Actual label')\n",
    "plt.xlabel('Predicted label')"
   ]
  },
  {
   "cell_type": "code",
   "execution_count": 135,
   "metadata": {},
   "outputs": [
    {
     "name": "stdout",
     "output_type": "stream",
     "text": [
      "Accuracy of GradientBoosting Classifier on test set: 94.77\n"
     ]
    }
   ],
   "source": [
    "print('Accuracy of GradientBoosting Classifier on test set: {:.2f}'.format(gb_opt.score(X_test, y_test)*100))"
   ]
  },
  {
   "cell_type": "code",
   "execution_count": 136,
   "metadata": {},
   "outputs": [
    {
     "name": "stdout",
     "output_type": "stream",
     "text": [
      "              precision    recall  f1-score   support\n",
      "\n",
      "         0.0       0.96      0.99      0.97      7074\n",
      "         1.0       0.59      0.27      0.37       426\n",
      "\n",
      "    accuracy                           0.95      7500\n",
      "   macro avg       0.77      0.63      0.67      7500\n",
      "weighted avg       0.94      0.95      0.94      7500\n",
      "\n"
     ]
    }
   ],
   "source": [
    "# Classification report for the optimised RF Regression\n",
    "gb_opt.fit(X_train, y_train)\n",
    "print(classification_report(y_test, gb_opt.predict(X_test)))"
   ]
  },
  {
   "cell_type": "code",
   "execution_count": 138,
   "metadata": {},
   "outputs": [
    {
     "name": "stdout",
     "output_type": "stream",
     "text": [
      "AUC score: 0.876\n"
     ]
    }
   ],
   "source": [
    "gb_opt.fit(X_train, y_train) # fit optimised model to the training data\n",
    "probs_1 = gb_opt.predict_proba(X_test) # predict probabilities\n",
    "probs_1 = probs_1[:, 1] # we will only keep probabilities associated with the tasker being hired\n",
    "gb_opt_roc_auc = roc_auc_score(y_test, probs_1) # calculate AUC score using test dataset\n",
    "print('AUC score: %.3f' % gb_opt_roc_auc)"
   ]
  },
  {
   "cell_type": "markdown",
   "metadata": {},
   "source": [
    "# Question 2: Increase customer retention"
   ]
  },
  {
   "cell_type": "markdown",
   "metadata": {},
   "source": [
    "For XXX, whether customers would repeat with us is passive and we don't get informed that a customer is leaving. \n",
    "I think, the customer retention needs to be deduced by customer activity within a certain period of time.\n",
    "We could draw a frequency distribution chart reporting purchase activity within different time intervals, in order to find the elbow point (such as 75% of active customers repeat purchasing products within 2 weeks).\n",
    "Based on the analysis above, the dependent variable would be, for example, whether the existing customer would purchase our products again within 2 weeks."
   ]
  },
  {
   "cell_type": "markdown",
   "metadata": {},
   "source": [
    "Then we will create predictive models (classification models such as logistic regression, Support Vector Machines, Random Forest, KNN, GradientBoosting) to determine the factors that influence customer retention.\n",
    "And the specific steps would be similar with what I did in Question 1."
   ]
  },
  {
   "cell_type": "markdown",
   "metadata": {},
   "source": [
    "The features that I would use would be as follows:\n",
    "1) Features regarding 'Customer Information':\n",
    "Zip Code\n",
    "Income Range\n",
    "Gender\n",
    "Occupation\n",
    "Education\n",
    "Do they have kids in the household?\n",
    "How do they find your website/ product?\n",
    "\n",
    "2) Features regarding 'Products':\n",
    "Type of Product\n",
    "Variety of Products\n",
    "Product Preferences or Combos\n",
    "\n",
    "3) Features regarding 'Purchase History':\n",
    "Frequency of Purchase\n",
    "Date of Last Purchase\n",
    "Time of Day/Season of Purchase\n",
    "Value of Purchases\n",
    "Payment Methods\n",
    "\n",
    "4) Features regarding 'Customer Interactions'\n",
    "Service Questions\n",
    "Online Visits\n",
    "Complaint Resolutions\n",
    "Complaint Priority\n",
    "How do they complain — email or phone or twitter?\n",
    "Frequency of complaints"
   ]
  },
  {
   "cell_type": "markdown",
   "metadata": {},
   "source": [
    "# Question 3: 12 Month retention"
   ]
  },
  {
   "cell_type": "markdown",
   "metadata": {},
   "source": [
    "To my understanding, we want to see whether our existing customer will purchase our products again after 12 months "
   ]
  },
  {
   "cell_type": "markdown",
   "metadata": {},
   "source": [
    "Method: A/B test"
   ]
  },
  {
   "cell_type": "markdown",
   "metadata": {},
   "source": [
    "We could design experiments for A/B tests, using a statistical inference approach grounded in a hypothesis test\n",
    "\n",
    "2 tests are run in parallel:\n",
    "1) Treatment Group (Group A) - This group is exposed to the new web page, popup form, etc.\n",
    "2) Control Group (Group B) - This group experiences no change from the current setup.\n",
    "\n",
    "For example, we might offer a particular feature to randomly selected customers and not others, and then make comparisons; \n",
    "alternatively, we might add a feature to one product offering and compare its repeat sales to those of similar products where you haven’t offered the feature.\n",
    "\n",
    "Then we can compare the conversion rates of the two groups using statistical inference (e.g. t-test, z-score, chi-squared test)."
   ]
  }
 ],
 "metadata": {
  "kernelspec": {
   "display_name": "Python 3",
   "language": "python",
   "name": "python3"
  },
  "language_info": {
   "codemirror_mode": {
    "name": "ipython",
    "version": 3
   },
   "file_extension": ".py",
   "mimetype": "text/x-python",
   "name": "python",
   "nbconvert_exporter": "python",
   "pygments_lexer": "ipython3",
   "version": "3.7.6"
  }
 },
 "nbformat": 4,
 "nbformat_minor": 4
}
